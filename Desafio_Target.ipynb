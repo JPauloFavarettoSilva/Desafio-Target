{
  "nbformat": 4,
  "nbformat_minor": 0,
  "metadata": {
    "colab": {
      "provenance": [],
      "authorship_tag": "ABX9TyOiDKCbCvS1Iy4RtFXrYgI5",
      "include_colab_link": true
    },
    "kernelspec": {
      "name": "python3",
      "display_name": "Python 3"
    },
    "language_info": {
      "name": "python"
    }
  },
  "cells": [
    {
      "cell_type": "markdown",
      "metadata": {
        "id": "view-in-github",
        "colab_type": "text"
      },
      "source": [
        "<a href=\"https://colab.research.google.com/github/JPauloFavarettoSilva/Desafio-Target/blob/main/Desafio_Target.ipynb\" target=\"_parent\"><img src=\"https://colab.research.google.com/assets/colab-badge.svg\" alt=\"Open In Colab\"/></a>"
      ]
    },
    {
      "cell_type": "markdown",
      "source": [
        "**1)** Dado a sequência de Fibonacci, onde se inicia por 0 e 1 e o próximo valor sempre será a soma dos 2 valores anteriores (exemplo: 0, 1, 1, 2, 3, 5, 8, 13, 21, 34...), escreva um programa na linguagem que desejar onde, informado um número, ele calcule a sequência de Fibonacci e retorne uma mensagem avisando se o número informado pertence ou não a sequência.\n"
      ],
      "metadata": {
        "id": "BWF26oqTSnFr"
      }
    },
    {
      "cell_type": "code",
      "execution_count": 3,
      "metadata": {
        "colab": {
          "base_uri": "https://localhost:8080/"
        },
        "id": "7_ALxmG0QmOR",
        "outputId": "f1f47c1c-87ba-4beb-c0f4-33911fcbfede"
      },
      "outputs": [
        {
          "output_type": "stream",
          "name": "stdout",
          "text": [
            "Informe um número: 5\n",
            "O número 5 pertence à sequência de Fibonacci\n"
          ]
        }
      ],
      "source": [
        "def gerarFibonacci(n):\n",
        "    a, b = 0, 1\n",
        "    while a <= n:\n",
        "        if a == n:\n",
        "            return True\n",
        "        a, b = b, a + b\n",
        "    return False\n",
        "\n",
        "def pesquisarFibonacci(n):\n",
        "    if gerarFibonacci(n):\n",
        "        return f\"O número {n} pertence à sequência de Fibonacci\"\n",
        "    else:\n",
        "        return f\"O número {n} NÃO pertence à sequência de Fibonacci\"\n",
        "\n",
        "\n",
        "numero = int(input(\"Informe um número: \"))\n",
        "print(pesquisarFibonacci(numero))\n"
      ]
    },
    {
      "cell_type": "markdown",
      "source": [
        "**2)** Escreva um programa que verifique, em uma string, a existência da letra ‘a’, seja maiúscula ou minúscula, além de informar a quantidade de vezes em que ela ocorre."
      ],
      "metadata": {
        "id": "s5sew65uSrBT"
      }
    },
    {
      "cell_type": "code",
      "source": [
        "def verificarLetra(texto):\n",
        "    textoMinusculo = texto.lower()\n",
        "    quantidade = textoMinusculo.count('a')\n",
        "\n",
        "    if quantidade > 0:\n",
        "        return f\"A letra 'a' aparece {quantidade} vez(es) no texto.\"\n",
        "    else:\n",
        "        return \"A letra 'a' não aparece no texto.\"\n",
        "\n",
        "textoUsuario = input(\"Digite uma frase: \")\n",
        "print(verificarLetra(textoUsuario))\n",
        "\n"
      ],
      "metadata": {
        "colab": {
          "base_uri": "https://localhost:8080/"
        },
        "id": "VCrQqZtpSytO",
        "outputId": "950760d6-c42d-4252-b39d-7499ad4d9e6d"
      },
      "execution_count": 4,
      "outputs": [
        {
          "output_type": "stream",
          "name": "stdout",
          "text": [
            "Digite uma frase: Escreva um programa que verifique\n",
            "A letra 'a' aparece 3 vez(es) no texto.\n"
          ]
        }
      ]
    },
    {
      "cell_type": "markdown",
      "source": [
        "**3)** Observe o trecho de código abaixo: int INDICE = 12, SOMA = 0, K = 1; enquanto K < INDICE faça { K = K + 1; SOMA = SOMA + K; } imprimir(SOMA);\n",
        "\n",
        "Ao final do processamento, qual será o valor da variável SOMA?\n",
        "\n",
        " **Resposta: 77**"
      ],
      "metadata": {
        "id": "oMjrsuUdVLy8"
      }
    },
    {
      "cell_type": "code",
      "source": [
        "INDICE = 12\n",
        "SOMA = 0\n",
        "K = 1\n",
        "\n",
        "while K < INDICE:\n",
        "    K = K + 1\n",
        "    SOMA = SOMA + K\n",
        "\n",
        "print(SOMA)\n"
      ],
      "metadata": {
        "colab": {
          "base_uri": "https://localhost:8080/"
        },
        "id": "6Zg_byTIVkC3",
        "outputId": "f7e679c2-45df-4eb4-c722-4704791268f9"
      },
      "execution_count": 5,
      "outputs": [
        {
          "output_type": "stream",
          "name": "stdout",
          "text": [
            "77\n"
          ]
        }
      ]
    },
    {
      "cell_type": "markdown",
      "source": [
        "**4)** Descubra a lógica e complete o próximo elemento:\n",
        "\n",
        "a) 1, 3, 5, 7, ___ **= 9 - soma de 2, ou ínpares.**\n",
        "\n",
        "b) 2, 4, 8, 16, 32, 64, ____ **= 128 - elevação de 2.**\n",
        "\n",
        "c) 0, 1, 4, 9, 16, 25, 36, ____ **= 49 - quadrado dos numeros inteiros.**\n",
        "\n",
        "d) 4, 16, 36, 64, ____ **= 100 - quadrado dos numeros pares.**\n",
        "\n",
        "e) 1, 1, 2, 3, 5, 8, ____ **= 13 - fibonachi.**\n",
        "\n",
        "f) 2, 10, 12, 16, 17, 18, 19, ____ **=200 - números que começam com D.**"
      ],
      "metadata": {
        "id": "WenUj37HWg6r"
      }
    },
    {
      "cell_type": "markdown",
      "source": [
        "**5)** Você está em uma sala com três interruptores, cada um conectado a uma lâmpada em salas diferentes. Você não pode ver as lâmpadas da sala em que está, mas pode ligar e desligar os interruptores quantas vezes quiser. Seu objetivo é descobrir qual interruptor controla qual lâmpada. Como você faria para descobrir, usando apenas duas idas até uma das salas das lâmpadas, qual interruptor controla cada lâmpada?\n",
        "\n",
        "**Resposta: Deixo apenas 1 ligado, na primeira ida, ligo mais um na segunda ida, a sala que não ligar pertence a terceiro interruptor.**"
      ],
      "metadata": {
        "id": "zqJumMyAYCvi"
      }
    }
  ]
}